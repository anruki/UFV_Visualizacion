{
  "cells": [
    {
      "cell_type": "markdown",
      "metadata": {
        "id": "view-in-github",
        "colab_type": "text"
      },
      "source": [
        "<a href=\"https://colab.research.google.com/github/anruki/UFV_Visualizacion/blob/main/EjerciciosClase/Ventas.ipynb\" target=\"_parent\"><img src=\"https://colab.research.google.com/assets/colab-badge.svg\" alt=\"Open In Colab\"/></a>"
      ]
    },
    {
      "cell_type": "markdown",
      "source": [
        "# Predicciones de ventas\n",
        "### Clase 18/10/2024\n",
        "### Asignatura: visualización de datos\n",
        "\n",
        "\n"
      ],
      "metadata": {
        "id": "0F-97R_lYb3X"
      }
    },
    {
      "cell_type": "markdown",
      "source": [
        "### Importación de librerías:"
      ],
      "metadata": {
        "id": "ZoqcRFEvaRz0"
      }
    },
    {
      "cell_type": "code",
      "source": [
        "import pandas as pd\n",
        "import numpy as np\n",
        "import matplotlib.pyplot as plt\n",
        "import seaborn as sns\n",
        "import requests"
      ],
      "metadata": {
        "id": "gyeuRTReaRGr"
      },
      "execution_count": 3,
      "outputs": []
    },
    {
      "cell_type": "markdown",
      "source": [
        "### Preguntas a responder para entender los datos:\n",
        "(Antes de responder)\n",
        "\n",
        "\n",
        "1.   NºActuals y Forecasts\n",
        "2.   Horizonte de predicción\n",
        "Cuando haces una predicción, ej: estás en enero:\n",
        "\n",
        "  *  predices x ventas para febrero, entonces horizonte de predicción = 1\n",
        "  *  predices x ventas en febrero, en marzo y, en abril z, entonces horizonte de predicción = 3.\n",
        "\n",
        "3.  Nº Países y de productos\n",
        "4.  Histórico de actuals/forecasts\n",
        "5.  Forecasts distintos\n"
      ],
      "metadata": {
        "id": "q8Q_c4igaQpl"
      }
    },
    {
      "cell_type": "code",
      "source": [
        "# URL del archivo CSV en GitHub\n",
        "url = \"https://github.com/anruki/UFV_Visualizacion/blob/703c84e6d7d6424dd7e27fd3ebc2a47b8c29f414/EjerciciosClase/datos_ejercicio_ventas.csv\"\n",
        "nombre = 'datos_ejercicios_ventas.csv'\n",
        "\n",
        "\n",
        "# Realizar la solicitud GET para obtener el contenido del archivo\n",
        "response = requests.get(url)\n",
        "\n",
        "# Verificar si la solicitud fue exitosa (código de estado 200)\n",
        "if response.status_code == 200:\n",
        "     # Guardar el contenido del archivo en un archivo local\n",
        "    with open(nombre, 'wb') as f:\n",
        "        f.write(response.content)\n",
        "    print(\"Archivo descargado exitosamente.\")\n",
        "else:\n",
        "    print(\"Error al descargar el archivo.\")"
      ],
      "metadata": {
        "id": "ulWNpD96Yntw",
        "colab": {
          "base_uri": "https://localhost:8080/"
        },
        "outputId": "bc1fe6a9-a1ee-4680-979d-40be644ab08d"
      },
      "execution_count": 8,
      "outputs": [
        {
          "output_type": "stream",
          "name": "stdout",
          "text": [
            "Error al descargar el archivo.\n"
          ]
        }
      ]
    },
    {
      "cell_type": "markdown",
      "source": [],
      "metadata": {
        "id": "mgaM0kiQbhoB"
      }
    }
  ],
  "metadata": {
    "colab": {
      "name": "Markdown Guide",
      "provenance": [],
      "include_colab_link": true
    },
    "kernelspec": {
      "display_name": "Python 3",
      "name": "python3"
    }
  },
  "nbformat": 4,
  "nbformat_minor": 0
}